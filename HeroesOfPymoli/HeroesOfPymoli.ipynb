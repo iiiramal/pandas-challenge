{
 "cells": [
  {
   "cell_type": "code",
   "execution_count": null,
   "id": "af2afffa",
   "metadata": {},
   "outputs": [],
   "source": [
    "#Load Dependencies\n",
    "import os\n",
    "from os import path\n",
    "import pandas as pd\n",
    "#pd.options.display.float_format = '{:,.2f}'.format\n",
    "import csv"
   ]
  },
  {
   "cell_type": "code",
   "execution_count": null,
   "id": "a9387e38",
   "metadata": {},
   "outputs": [],
   "source": [
    "#declare file name\n",
    "purchase_data = \"Resources/purchase_data.csv\""
   ]
  },
  {
   "cell_type": "code",
   "execution_count": null,
   "id": "62a9d674",
   "metadata": {},
   "outputs": [],
   "source": [
    "#import file into dataframe\n",
    "purchase_data_df = pd.read_csv(purchase_data, encoding=\"ISO-8859-1\")"
   ]
  },
  {
   "cell_type": "code",
   "execution_count": null,
   "id": "3aefb7fd",
   "metadata": {},
   "outputs": [],
   "source": [
    "#Rename SN column to Screen Name to make it more descriptive\n",
    "purchase_data_df = purchase_data_df.rename (columns={\"SN\":\"Screen Name\"})"
   ]
  },
  {
   "cell_type": "code",
   "execution_count": null,
   "id": "49f42dca",
   "metadata": {},
   "outputs": [],
   "source": [
    "#Create Age Group Bins\n",
    "bins = [0, 9, 14, 19, 24, 29,34,39,100]\n",
    "age_groups = [\"<10\", \"10-14\", \"15-19\", \"20-24\", \"25-29\", \"30-34\", \"35-39\",\"40+\"]"
   ]
  },
  {
   "cell_type": "code",
   "execution_count": null,
   "id": "5f5043db",
   "metadata": {},
   "outputs": [],
   "source": [
    "#Use pd.cut to assign age group to rows\n",
    "purchase_data_df[\"Age Group\"] = pd.cut(purchase_data_df[\"Age\"], bins, labels=age_groups, include_lowest=True)"
   ]
  },
  {
   "cell_type": "code",
   "execution_count": null,
   "id": "2c5198ef",
   "metadata": {},
   "outputs": [],
   "source": [
    "#calculate number of unique players\n",
    "player_count = len(purchase_data_df[\"Screen Name\"].unique())"
   ]
  },
  {
   "cell_type": "code",
   "execution_count": null,
   "id": "7b015bc5",
   "metadata": {},
   "outputs": [],
   "source": [
    "#Create summary dataframe for number of players\n",
    "player_summary_df = pd.DataFrame({\"Total Unique Players\": [player_count]})"
   ]
  },
  {
   "cell_type": "code",
   "execution_count": null,
   "id": "eaba8a11",
   "metadata": {},
   "outputs": [],
   "source": [
    "#calculate number of unique items\n",
    "item_count = len(purchase_data_df[\"Item ID\"].unique())"
   ]
  },
  {
   "cell_type": "code",
   "execution_count": null,
   "id": "5830828a",
   "metadata": {},
   "outputs": [],
   "source": [
    "#calculate average item purchase price\n",
    "average_price = sum(purchase_data_df[\"Price\"])/len(purchase_data_df[\"Purchase ID\"])"
   ]
  },
  {
   "cell_type": "code",
   "execution_count": null,
   "id": "41b99157",
   "metadata": {},
   "outputs": [],
   "source": [
    "#calculate total number of purchases\n",
    "total_purchases = len(purchase_data_df[\"Purchase ID\"])"
   ]
  },
  {
   "cell_type": "code",
   "execution_count": null,
   "id": "f32405e8",
   "metadata": {},
   "outputs": [],
   "source": [
    "#Calculate Total Revenue\n",
    "total_revenue = sum(purchase_data_df[\"Price\"])"
   ]
  },
  {
   "cell_type": "code",
   "execution_count": null,
   "id": "1f173691",
   "metadata": {},
   "outputs": [],
   "source": [
    "#Creat purchase summary table\n",
    "purchase_summary_df = pd.DataFrame({\"# of Unique Items\": [item_count], \n",
    "                                   \"Avg Price\": round(average_price,2),\n",
    "                                   \"# of Purchases\": total_purchases,\n",
    "                                   \"Total Revenue\": total_revenue})"
   ]
  },
  {
   "cell_type": "code",
   "execution_count": null,
   "id": "5e18a0f2",
   "metadata": {},
   "outputs": [],
   "source": [
    "#Create gender summary table by copying purchase data column, and dropping duplicates. \n",
    "Gender_df = purchase_data_df[['Gender', 'Screen Name']].copy()\n",
    "Gender_df = Gender_df.drop_duplicates()"
   ]
  },
  {
   "cell_type": "code",
   "execution_count": null,
   "id": "77317596",
   "metadata": {},
   "outputs": [],
   "source": [
    "#Group By Gender\n",
    "Gender_df = Gender_df.groupby('Gender').count()"
   ]
  },
  {
   "cell_type": "code",
   "execution_count": null,
   "id": "ffda262a",
   "metadata": {},
   "outputs": [],
   "source": [
    "#Insert column to calculate percentage of total players each gender consists of\n",
    "Gender_df.insert(1,\"Percentage\", Gender_df['Screen Name']/Gender_df['Screen Name'].sum())"
   ]
  },
  {
   "cell_type": "code",
   "execution_count": null,
   "id": "cebe37c8",
   "metadata": {},
   "outputs": [],
   "source": [
    "#rename columns to make more descriptive\n",
    "Gender_df = Gender_df.rename (columns={\"Screen Name\":\"Total Player Count\"})"
   ]
  },
  {
   "cell_type": "code",
   "execution_count": null,
   "id": "c367e736",
   "metadata": {},
   "outputs": [],
   "source": [
    "#sort gender_df dataframe\n",
    "Gender_df.sort_values(by=['Percentage'], ascending=False, inplace=True)"
   ]
  },
  {
   "cell_type": "code",
   "execution_count": null,
   "id": "e095ef05",
   "metadata": {},
   "outputs": [],
   "source": [
    "#Create GenderSales summary dataframe\n",
    "GenderSales_df = purchase_data_df[['Gender', 'Screen Name']].copy()\n",
    "GenderSales_df = GenderSales_df.set_index('Gender')\n",
    "GenderSales_df = GenderSales_df.groupby('Gender').count()\n",
    "GenderSales_df = GenderSales_df.rename (columns={\"Screen Name\":\"Purchase Count\"})"
   ]
  },
  {
   "cell_type": "code",
   "execution_count": null,
   "id": "b2562b6a",
   "metadata": {},
   "outputs": [],
   "source": [
    "#Calculate total purchase value by gender\n",
    "GenderSales_df.insert(1,\"Total Purchase Value\", purchase_data_df.groupby('Gender').agg({'Price': ['sum']}))"
   ]
  },
  {
   "cell_type": "code",
   "execution_count": null,
   "id": "8cdc787a",
   "metadata": {},
   "outputs": [],
   "source": [
    "#Calculate average purchase price by gender\n",
    "GenderSales_df.insert(1,\"Average Purchase Price (Gender)\", round((GenderSales_df['Total Purchase Value']/GenderSales_df['Purchase Count']),2))"
   ]
  },
  {
   "cell_type": "code",
   "execution_count": null,
   "id": "44e34cbc",
   "metadata": {},
   "outputs": [],
   "source": [
    "#calculate average purchase price of each unique player by gender\n",
    "GenderSales_df.insert(3,\"Average Purchase Price (Player/Gender)\", round((GenderSales_df['Total Purchase Value']/Gender_df['Total Player Count']),2))"
   ]
  },
  {
   "cell_type": "code",
   "execution_count": null,
   "id": "1cfa253f",
   "metadata": {},
   "outputs": [],
   "source": [
    "#create agegroup summary df\n",
    "AgeGroups_df = purchase_data_df[['Age Group', 'Screen Name']].copy()\n",
    "AgeGroups_df = AgeGroups_df.drop_duplicates()\n",
    "AgeGroups_df = AgeGroups_df.groupby('Age Group').count()\n",
    "AgeGroups_df = AgeGroups_df.rename (columns={\"Screen Name\":\"Total Count\"})"
   ]
  },
  {
   "cell_type": "code",
   "execution_count": null,
   "id": "759678ba",
   "metadata": {},
   "outputs": [],
   "source": [
    "#Calculate percentage of players each age group makes up\n",
    "AgeGroups_df.insert(1,\"Percentage of Players\", AgeGroups_df['Total Count']/player_count)"
   ]
  },
  {
   "cell_type": "code",
   "execution_count": null,
   "id": "53027e4b",
   "metadata": {},
   "outputs": [],
   "source": [
    "#Create agesales summary dataframe\n",
    "AgeSales_df = purchase_data_df[['Age Group', 'Screen Name','Price']].copy()\n",
    "AgeSales_df = AgeSales_df.set_index('Age Group')\n",
    "AgeSales_df = AgeSales_df.groupby('Age Group').agg({'Screen Name': ['count'],'Price': ['sum']})\n",
    "AgeSales_df.columns = AgeSales_df.columns.droplevel(1)\n",
    "AgeSales_df = AgeSales_df.rename (columns={\"Screen Name\":\"Purchase Count\", \"Price\":\"Total Purchase Value\"})\n",
    "AgeSales_df = AgeSales_df.rename_axis(None, axis=0)"
   ]
  },
  {
   "cell_type": "code",
   "execution_count": null,
   "id": "008df53c",
   "metadata": {},
   "outputs": [],
   "source": [
    "#calculate average purchase price by age group\n",
    "AgeSales_df.insert(1,\"Average Purchase Price (Age Group)\", round((AgeSales_df['Total Purchase Value']/AgeSales_df['Purchase Count']),2))"
   ]
  },
  {
   "cell_type": "code",
   "execution_count": null,
   "id": "f2bf33bb",
   "metadata": {},
   "outputs": [],
   "source": [
    "#calculate average purchase price of individual players by age group\n",
    "AgeSales_df.insert(3,\"Average Purchase Price (Player/Age Group)\", round((AgeSales_df['Total Purchase Value']/AgeGroups_df['Total Count']),2))"
   ]
  },
  {
   "cell_type": "code",
   "execution_count": null,
   "id": "4cf2ef99",
   "metadata": {},
   "outputs": [],
   "source": [
    "#create top purchases summary dataframe\n",
    "TopPurchase_df = purchase_data_df[['Purchase ID','Screen Name', 'Price','Price']].copy()\n",
    "TopPurchase_df.columns = ['Purchase Count','Screen Name', 'Average Purchase Price', 'Total Purchase Value']\n",
    "TopPurchase_df = TopPurchase_df.set_index('Screen Name')\n",
    "TopPurchase_df = TopPurchase_df.groupby('Screen Name').agg({'Purchase Count': ['count'],'Average Purchase Price': ['mean'],'Total Purchase Value': ['sum']})\n",
    "TopPurchase_df['Average Purchase Price'] = round(TopPurchase_df['Average Purchase Price'],2)\n",
    "TopPurchase_df.columns = TopPurchase_df.columns.droplevel(1)\n",
    "TopPurchase_df.sort_values(by=['Total Purchase Value'], ascending=False, inplace=True)"
   ]
  },
  {
   "cell_type": "code",
   "execution_count": null,
   "id": "db179b30",
   "metadata": {},
   "outputs": [],
   "source": [
    "#create top item sales summary dfs by popularity and profit\n",
    "TopSalesPop_df = purchase_data_df[['Item ID','Item Name', 'Purchase ID','Price','Price']].copy()\n",
    "TopSalesPop_df.columns = ['Item ID','Item Name', 'Sales Count', 'Average Sales Price', 'Total Sales Value']\n",
    "TopSalesPop_df = TopSalesPop_df.set_index(['Item ID', 'Item Name'])\n",
    "TopSalesPop_df = TopSalesPop_df.groupby(['Item ID', 'Item Name']).agg({'Sales Count': ['count'],'Average Sales Price': ['mean'],'Total Sales Value': ['sum']})\n",
    "TopSalesPop_df['Average Sales Price'] = round(TopSalesPop_df['Average Sales Price'],2)\n",
    "TopSalesPop_df.columns = TopSalesPop_df.columns.droplevel(1)\n",
    "TopSalesPop_df.sort_values(by=['Sales Count'], ascending=False, inplace=True)\n",
    "TopSalesProf_df = TopSalesPop_df.copy()\n",
    "TopSalesProf_df.sort_values(by=['Total Sales Value'], ascending=False, inplace=True)"
   ]
  },
  {
   "cell_type": "code",
   "execution_count": null,
   "id": "c820fc5b",
   "metadata": {},
   "outputs": [],
   "source": [
    "#Format datafram columns\n",
    "purchase_summary_df['Avg Price'] = purchase_summary_df['Avg Price'].map(lambda x: \"${:,.2f}\".format(x))\n",
    "purchase_summary_df['Total Revenue'] = purchase_summary_df['Total Revenue'].map(lambda x: \"${:,.2f}\".format(x))\n",
    "Gender_df['Percentage'] = Gender_df['Percentage'].map(lambda x: '{:.2%}'.format(x))\n",
    "GenderSales_df['Average Purchase Price (Gender)'] = GenderSales_df['Average Purchase Price (Gender)'].map(lambda x: \"${:.2f}\".format(x))\n",
    "GenderSales_df['Total Purchase Value'] = GenderSales_df['Total Purchase Value'].map(lambda x: \"${:,.2f}\".format(x))\n",
    "GenderSales_df['Average Purchase Price (Player/Gender)'] = GenderSales_df['Average Purchase Price (Player/Gender)'].map(lambda x: \"${:,.2f}\".format(x))\n",
    "AgeGroups_df['Percentage of Players'] = AgeGroups_df['Percentage of Players'].map(lambda x: '{:.2%}'.format(x))\n",
    "AgeSales_df['Average Purchase Price (Age Group)'] = AgeSales_df['Average Purchase Price (Age Group)'].map(lambda x: \"${:,.2f}\".format(x))\n",
    "AgeSales_df['Total Purchase Value'] = AgeSales_df['Total Purchase Value'].map(lambda x: \"${:,.2f}\".format(x))\n",
    "AgeSales_df['Average Purchase Price (Player/Age Group)'] = AgeSales_df['Average Purchase Price (Player/Age Group)'].map(lambda x: \"${:,.2f}\".format(x))\n",
    "TopPurchase_df['Average Purchase Price'] = TopPurchase_df['Average Purchase Price'].map(lambda x: \"${:,.2f}\".format(x))\n",
    "TopPurchase_df['Total Purchase Value'] = TopPurchase_df['Total Purchase Value'].map(lambda x: \"${:,.2f}\".format(x))\n",
    "TopSalesPop_df['Average Sales Price'] = TopSalesPop_df['Average Sales Price'].map(lambda x: \"${:,.2f}\".format(x))\n",
    "TopSalesPop_df['Total Sales Value'] = TopSalesPop_df['Total Sales Value'].map(lambda x: \"${:,.2f}\".format(x))\n",
    "TopSalesProf_df['Average Sales Price'] = TopSalesProf_df['Average Sales Price'].map(lambda x: \"${:,.2f}\".format(x))\n",
    "TopSalesProf_df['Total Sales Value'] = TopSalesProf_df['Total Sales Value'].map(lambda x: \"${:,.2f}\".format(x))"
   ]
  },
  {
   "cell_type": "code",
   "execution_count": null,
   "id": "70673bf0",
   "metadata": {},
   "outputs": [],
   "source": [
    "player_summary_df"
   ]
  },
  {
   "cell_type": "code",
   "execution_count": null,
   "id": "7b8a3989",
   "metadata": {},
   "outputs": [],
   "source": [
    "purchase_summary_df"
   ]
  },
  {
   "cell_type": "code",
   "execution_count": null,
   "id": "a01ba4f0",
   "metadata": {},
   "outputs": [],
   "source": [
    "Gender_df"
   ]
  },
  {
   "cell_type": "code",
   "execution_count": null,
   "id": "4094bcb2",
   "metadata": {
    "scrolled": true
   },
   "outputs": [],
   "source": [
    "GenderSales_df"
   ]
  },
  {
   "cell_type": "code",
   "execution_count": null,
   "id": "df2110e7",
   "metadata": {},
   "outputs": [],
   "source": [
    "AgeGroups_df"
   ]
  },
  {
   "cell_type": "code",
   "execution_count": null,
   "id": "6e35c620",
   "metadata": {},
   "outputs": [],
   "source": [
    "AgeSales_df"
   ]
  },
  {
   "cell_type": "code",
   "execution_count": null,
   "id": "df8c5e3e",
   "metadata": {},
   "outputs": [],
   "source": [
    "TopPurchase_df.head()"
   ]
  },
  {
   "cell_type": "code",
   "execution_count": null,
   "id": "fdd661e4",
   "metadata": {},
   "outputs": [],
   "source": [
    "TopSalesPop_df.head()"
   ]
  },
  {
   "cell_type": "code",
   "execution_count": null,
   "id": "5629cbc9",
   "metadata": {},
   "outputs": [],
   "source": [
    "TopSalesProf_df.head()"
   ]
  },
  {
   "cell_type": "code",
   "execution_count": null,
   "id": "8ed09a07",
   "metadata": {},
   "outputs": [],
   "source": []
  }
 ],
 "metadata": {
  "kernelspec": {
   "display_name": "Python 3 (ipykernel)",
   "language": "python",
   "name": "python3"
  },
  "language_info": {
   "codemirror_mode": {
    "name": "ipython",
    "version": 3
   },
   "file_extension": ".py",
   "mimetype": "text/x-python",
   "name": "python",
   "nbconvert_exporter": "python",
   "pygments_lexer": "ipython3",
   "version": "3.8.5"
  }
 },
 "nbformat": 4,
 "nbformat_minor": 5
}
