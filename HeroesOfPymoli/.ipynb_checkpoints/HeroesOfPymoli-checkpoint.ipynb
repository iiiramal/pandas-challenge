{
 "cells": [
  {
   "attachments": {},
   "cell_type": "markdown",
   "id": "614fea86",
   "metadata": {},
   "source": [
    "Observations:\n",
    "\n",
    "1. Men are most likely to play this game. \n",
    "2.\tThe Final Critic is the top seller from a popularity and profit perspective. \n",
    "3.\tPlayers between 15 and 29 spend the most on in game items, with individual players <10, 20-24, and 35-39 spending the most per purchase. \n"
   ]
  },
  {
   "cell_type": "code",
   "execution_count": 1,
   "id": "af2afffa",
   "metadata": {},
   "outputs": [],
   "source": [
    "#Load Dependencies\n",
    "import os\n",
    "from os import path\n",
    "import pandas as pd\n",
    "#pd.options.display.float_format = '{:,.2f}'.format\n",
    "import csv"
   ]
  },
  {
   "cell_type": "code",
   "execution_count": 2,
   "id": "a9387e38",
   "metadata": {},
   "outputs": [],
   "source": [
    "#declare file name\n",
    "purchase_data = \"Resources/purchase_data.csv\""
   ]
  },
  {
   "cell_type": "code",
   "execution_count": 3,
   "id": "62a9d674",
   "metadata": {},
   "outputs": [],
   "source": [
    "#import file into dataframe\n",
    "purchase_data_df = pd.read_csv(purchase_data, encoding=\"ISO-8859-1\")"
   ]
  },
  {
   "cell_type": "code",
   "execution_count": 4,
   "id": "3aefb7fd",
   "metadata": {},
   "outputs": [],
   "source": [
    "#Rename SN column to Screen Name to make it more descriptive\n",
    "purchase_data_df = purchase_data_df.rename (columns={\"SN\":\"Screen Name\"})"
   ]
  },
  {
   "cell_type": "code",
   "execution_count": 5,
   "id": "49f42dca",
   "metadata": {},
   "outputs": [],
   "source": [
    "#Create Age Group Bins\n",
    "bins = [0, 9, 14, 19, 24, 29,34,39,100]\n",
    "age_groups = [\"<10\", \"10-14\", \"15-19\", \"20-24\", \"25-29\", \"30-34\", \"35-39\",\"40+\"]"
   ]
  },
  {
   "cell_type": "code",
   "execution_count": 6,
   "id": "5f5043db",
   "metadata": {},
   "outputs": [],
   "source": [
    "#Use pd.cut to assign age group to rows\n",
    "purchase_data_df[\"Age Group\"] = pd.cut(purchase_data_df[\"Age\"], bins, labels=age_groups, include_lowest=True)"
   ]
  },
  {
   "cell_type": "code",
   "execution_count": 7,
   "id": "2c5198ef",
   "metadata": {},
   "outputs": [],
   "source": [
    "#calculate number of unique players\n",
    "player_count = len(purchase_data_df[\"Screen Name\"].unique())"
   ]
  },
  {
   "cell_type": "code",
   "execution_count": 8,
   "id": "7b015bc5",
   "metadata": {},
   "outputs": [],
   "source": [
    "#Create summary dataframe for number of players\n",
    "player_summary_df = pd.DataFrame({\"Total Unique Players\": [player_count]})"
   ]
  },
  {
   "cell_type": "code",
   "execution_count": 9,
   "id": "eaba8a11",
   "metadata": {},
   "outputs": [],
   "source": [
    "#calculate number of unique items\n",
    "item_count = len(purchase_data_df[\"Item ID\"].unique())"
   ]
  },
  {
   "cell_type": "code",
   "execution_count": 10,
   "id": "5830828a",
   "metadata": {},
   "outputs": [],
   "source": [
    "#calculate average item purchase price\n",
    "average_price = sum(purchase_data_df[\"Price\"])/len(purchase_data_df[\"Purchase ID\"])"
   ]
  },
  {
   "cell_type": "code",
   "execution_count": 11,
   "id": "41b99157",
   "metadata": {},
   "outputs": [],
   "source": [
    "#calculate total number of purchases\n",
    "total_purchases = len(purchase_data_df[\"Purchase ID\"])"
   ]
  },
  {
   "cell_type": "code",
   "execution_count": 12,
   "id": "f32405e8",
   "metadata": {},
   "outputs": [],
   "source": [
    "#Calculate Total Revenue\n",
    "total_revenue = sum(purchase_data_df[\"Price\"])"
   ]
  },
  {
   "cell_type": "code",
   "execution_count": 13,
   "id": "1f173691",
   "metadata": {},
   "outputs": [],
   "source": [
    "#Creat purchase summary table\n",
    "purchase_summary_df = pd.DataFrame({\"# of Unique Items\": [item_count], \n",
    "                                   \"Avg Price\": round(average_price,2),\n",
    "                                   \"# of Purchases\": total_purchases,\n",
    "                                   \"Total Revenue\": total_revenue})"
   ]
  },
  {
   "cell_type": "code",
   "execution_count": 14,
   "id": "5e18a0f2",
   "metadata": {},
   "outputs": [],
   "source": [
    "#Create gender summary table by copying purchase data column, and dropping duplicates. \n",
    "Gender_df = purchase_data_df[['Gender', 'Screen Name']].copy()\n",
    "Gender_df = Gender_df.drop_duplicates()"
   ]
  },
  {
   "cell_type": "code",
   "execution_count": 15,
   "id": "77317596",
   "metadata": {},
   "outputs": [],
   "source": [
    "#Group By Gender\n",
    "Gender_df = Gender_df.groupby('Gender').count()"
   ]
  },
  {
   "cell_type": "code",
   "execution_count": 16,
   "id": "ffda262a",
   "metadata": {},
   "outputs": [],
   "source": [
    "#Insert column to calculate percentage of total players each gender consists of\n",
    "Gender_df.insert(1,\"Percentage\", Gender_df['Screen Name']/Gender_df['Screen Name'].sum())"
   ]
  },
  {
   "cell_type": "code",
   "execution_count": 17,
   "id": "cebe37c8",
   "metadata": {},
   "outputs": [],
   "source": [
    "#rename columns to make more descriptive\n",
    "Gender_df = Gender_df.rename (columns={\"Screen Name\":\"Total Player Count\"})"
   ]
  },
  {
   "cell_type": "code",
   "execution_count": 18,
   "id": "c367e736",
   "metadata": {},
   "outputs": [],
   "source": [
    "#sort gender_df dataframe\n",
    "Gender_df.sort_values(by=['Percentage'], ascending=False, inplace=True)"
   ]
  },
  {
   "cell_type": "code",
   "execution_count": 19,
   "id": "e095ef05",
   "metadata": {},
   "outputs": [],
   "source": [
    "#Create GenderSales summary dataframe\n",
    "GenderSales_df = purchase_data_df[['Gender', 'Screen Name']].copy()\n",
    "GenderSales_df = GenderSales_df.set_index('Gender')\n",
    "GenderSales_df = GenderSales_df.groupby('Gender').count()\n",
    "GenderSales_df = GenderSales_df.rename (columns={\"Screen Name\":\"Purchase Count\"})"
   ]
  },
  {
   "cell_type": "code",
   "execution_count": 20,
   "id": "b2562b6a",
   "metadata": {},
   "outputs": [],
   "source": [
    "#Calculate total purchase value by gender\n",
    "GenderSales_df.insert(1,\"Total Purchase Value\", purchase_data_df.groupby('Gender').agg({'Price': ['sum']}))"
   ]
  },
  {
   "cell_type": "code",
   "execution_count": 21,
   "id": "8cdc787a",
   "metadata": {},
   "outputs": [],
   "source": [
    "#Calculate average purchase price by gender\n",
    "GenderSales_df.insert(1,\"Average Purchase Price (Gender)\", round((GenderSales_df['Total Purchase Value']/GenderSales_df['Purchase Count']),2))"
   ]
  },
  {
   "cell_type": "code",
   "execution_count": 22,
   "id": "44e34cbc",
   "metadata": {},
   "outputs": [],
   "source": [
    "#calculate average purchase price of each unique player by gender\n",
    "GenderSales_df.insert(3,\"Average Purchase Price (Player/Gender)\", round((GenderSales_df['Total Purchase Value']/Gender_df['Total Player Count']),2))"
   ]
  },
  {
   "cell_type": "code",
   "execution_count": 23,
   "id": "1cfa253f",
   "metadata": {},
   "outputs": [],
   "source": [
    "#create agegroup summary df\n",
    "AgeGroups_df = purchase_data_df[['Age Group', 'Screen Name']].copy()\n",
    "AgeGroups_df = AgeGroups_df.drop_duplicates()\n",
    "AgeGroups_df = AgeGroups_df.groupby('Age Group').count()\n",
    "AgeGroups_df = AgeGroups_df.rename (columns={\"Screen Name\":\"Total Count\"})"
   ]
  },
  {
   "cell_type": "code",
   "execution_count": 24,
   "id": "759678ba",
   "metadata": {},
   "outputs": [],
   "source": [
    "#Calculate percentage of players each age group makes up\n",
    "AgeGroups_df.insert(1,\"Percentage of Players\", AgeGroups_df['Total Count']/player_count)"
   ]
  },
  {
   "cell_type": "code",
   "execution_count": 25,
   "id": "53027e4b",
   "metadata": {},
   "outputs": [],
   "source": [
    "#Create agesales summary dataframe\n",
    "AgeSales_df = purchase_data_df[['Age Group', 'Screen Name','Price']].copy()\n",
    "AgeSales_df = AgeSales_df.set_index('Age Group')\n",
    "AgeSales_df = AgeSales_df.groupby('Age Group').agg({'Screen Name': ['count'],'Price': ['sum']})\n",
    "AgeSales_df.columns = AgeSales_df.columns.droplevel(1)\n",
    "AgeSales_df = AgeSales_df.rename (columns={\"Screen Name\":\"Purchase Count\", \"Price\":\"Total Purchase Value\"})\n",
    "AgeSales_df = AgeSales_df.rename_axis(None, axis=0)"
   ]
  },
  {
   "cell_type": "code",
   "execution_count": 26,
   "id": "008df53c",
   "metadata": {},
   "outputs": [],
   "source": [
    "#calculate average purchase price by age group\n",
    "AgeSales_df.insert(1,\"Average Purchase Price (Age Group)\", round((AgeSales_df['Total Purchase Value']/AgeSales_df['Purchase Count']),2))"
   ]
  },
  {
   "cell_type": "code",
   "execution_count": 27,
   "id": "f2bf33bb",
   "metadata": {},
   "outputs": [],
   "source": [
    "#calculate average purchase price of individual players by age group\n",
    "AgeSales_df.insert(3,\"Average Purchase Price (Player/Age Group)\", round((AgeSales_df['Total Purchase Value']/AgeGroups_df['Total Count']),2))"
   ]
  },
  {
   "cell_type": "code",
   "execution_count": 28,
   "id": "4cf2ef99",
   "metadata": {},
   "outputs": [],
   "source": [
    "#create top purchases summary dataframe\n",
    "TopPurchase_df = purchase_data_df[['Purchase ID','Screen Name', 'Price','Price']].copy()\n",
    "TopPurchase_df.columns = ['Purchase Count','Screen Name', 'Average Purchase Price', 'Total Purchase Value']\n",
    "TopPurchase_df = TopPurchase_df.set_index('Screen Name')\n",
    "TopPurchase_df = TopPurchase_df.groupby('Screen Name').agg({'Purchase Count': ['count'],'Average Purchase Price': ['mean'],'Total Purchase Value': ['sum']})\n",
    "TopPurchase_df['Average Purchase Price'] = round(TopPurchase_df['Average Purchase Price'],2)\n",
    "TopPurchase_df.columns = TopPurchase_df.columns.droplevel(1)\n",
    "TopPurchase_df.sort_values(by=['Total Purchase Value'], ascending=False, inplace=True)"
   ]
  },
  {
   "cell_type": "code",
   "execution_count": 29,
   "id": "db179b30",
   "metadata": {},
   "outputs": [],
   "source": [
    "#create top item sales summary dfs by popularity and profit\n",
    "TopSalesPop_df = purchase_data_df[['Item ID','Item Name', 'Purchase ID','Price','Price']].copy()\n",
    "TopSalesPop_df.columns = ['Item ID','Item Name', 'Sales Count', 'Average Sales Price', 'Total Sales Value']\n",
    "TopSalesPop_df = TopSalesPop_df.set_index(['Item ID', 'Item Name'])\n",
    "TopSalesPop_df = TopSalesPop_df.groupby(['Item ID', 'Item Name']).agg({'Sales Count': ['count'],'Average Sales Price': ['mean'],'Total Sales Value': ['sum']})\n",
    "TopSalesPop_df['Average Sales Price'] = round(TopSalesPop_df['Average Sales Price'],2)\n",
    "TopSalesPop_df.columns = TopSalesPop_df.columns.droplevel(1)\n",
    "TopSalesPop_df.sort_values(by=['Sales Count'], ascending=False, inplace=True)\n",
    "TopSalesProf_df = TopSalesPop_df.copy()\n",
    "TopSalesProf_df.sort_values(by=['Total Sales Value'], ascending=False, inplace=True)"
   ]
  },
  {
   "cell_type": "code",
   "execution_count": 30,
   "id": "c820fc5b",
   "metadata": {},
   "outputs": [],
   "source": [
    "#Format datafram columns\n",
    "purchase_summary_df['Avg Price'] = purchase_summary_df['Avg Price'].map(lambda x: \"${:,.2f}\".format(x))\n",
    "purchase_summary_df['Total Revenue'] = purchase_summary_df['Total Revenue'].map(lambda x: \"${:,.2f}\".format(x))\n",
    "Gender_df['Percentage'] = Gender_df['Percentage'].map(lambda x: '{:.2%}'.format(x))\n",
    "GenderSales_df['Average Purchase Price (Gender)'] = GenderSales_df['Average Purchase Price (Gender)'].map(lambda x: \"${:.2f}\".format(x))\n",
    "GenderSales_df['Total Purchase Value'] = GenderSales_df['Total Purchase Value'].map(lambda x: \"${:,.2f}\".format(x))\n",
    "GenderSales_df['Average Purchase Price (Player/Gender)'] = GenderSales_df['Average Purchase Price (Player/Gender)'].map(lambda x: \"${:,.2f}\".format(x))\n",
    "AgeGroups_df['Percentage of Players'] = AgeGroups_df['Percentage of Players'].map(lambda x: '{:.2%}'.format(x))\n",
    "AgeSales_df['Average Purchase Price (Age Group)'] = AgeSales_df['Average Purchase Price (Age Group)'].map(lambda x: \"${:,.2f}\".format(x))\n",
    "AgeSales_df['Total Purchase Value'] = AgeSales_df['Total Purchase Value'].map(lambda x: \"${:,.2f}\".format(x))\n",
    "AgeSales_df['Average Purchase Price (Player/Age Group)'] = AgeSales_df['Average Purchase Price (Player/Age Group)'].map(lambda x: \"${:,.2f}\".format(x))\n",
    "TopPurchase_df['Average Purchase Price'] = TopPurchase_df['Average Purchase Price'].map(lambda x: \"${:,.2f}\".format(x))\n",
    "TopPurchase_df['Total Purchase Value'] = TopPurchase_df['Total Purchase Value'].map(lambda x: \"${:,.2f}\".format(x))\n",
    "TopSalesPop_df['Average Sales Price'] = TopSalesPop_df['Average Sales Price'].map(lambda x: \"${:,.2f}\".format(x))\n",
    "TopSalesPop_df['Total Sales Value'] = TopSalesPop_df['Total Sales Value'].map(lambda x: \"${:,.2f}\".format(x))\n",
    "TopSalesProf_df['Average Sales Price'] = TopSalesProf_df['Average Sales Price'].map(lambda x: \"${:,.2f}\".format(x))\n",
    "TopSalesProf_df['Total Sales Value'] = TopSalesProf_df['Total Sales Value'].map(lambda x: \"${:,.2f}\".format(x))"
   ]
  },
  {
   "cell_type": "code",
   "execution_count": 31,
   "id": "70673bf0",
   "metadata": {},
   "outputs": [
    {
     "data": {
      "text/html": [
       "<div>\n",
       "<style scoped>\n",
       "    .dataframe tbody tr th:only-of-type {\n",
       "        vertical-align: middle;\n",
       "    }\n",
       "\n",
       "    .dataframe tbody tr th {\n",
       "        vertical-align: top;\n",
       "    }\n",
       "\n",
       "    .dataframe thead th {\n",
       "        text-align: right;\n",
       "    }\n",
       "</style>\n",
       "<table border=\"1\" class=\"dataframe\">\n",
       "  <thead>\n",
       "    <tr style=\"text-align: right;\">\n",
       "      <th></th>\n",
       "      <th>Total Unique Players</th>\n",
       "    </tr>\n",
       "  </thead>\n",
       "  <tbody>\n",
       "    <tr>\n",
       "      <th>0</th>\n",
       "      <td>576</td>\n",
       "    </tr>\n",
       "  </tbody>\n",
       "</table>\n",
       "</div>"
      ],
      "text/plain": [
       "   Total Unique Players\n",
       "0                   576"
      ]
     },
     "execution_count": 31,
     "metadata": {},
     "output_type": "execute_result"
    }
   ],
   "source": [
    "player_summary_df"
   ]
  },
  {
   "cell_type": "code",
   "execution_count": 32,
   "id": "7b8a3989",
   "metadata": {},
   "outputs": [
    {
     "data": {
      "text/html": [
       "<div>\n",
       "<style scoped>\n",
       "    .dataframe tbody tr th:only-of-type {\n",
       "        vertical-align: middle;\n",
       "    }\n",
       "\n",
       "    .dataframe tbody tr th {\n",
       "        vertical-align: top;\n",
       "    }\n",
       "\n",
       "    .dataframe thead th {\n",
       "        text-align: right;\n",
       "    }\n",
       "</style>\n",
       "<table border=\"1\" class=\"dataframe\">\n",
       "  <thead>\n",
       "    <tr style=\"text-align: right;\">\n",
       "      <th></th>\n",
       "      <th># of Unique Items</th>\n",
       "      <th>Avg Price</th>\n",
       "      <th># of Purchases</th>\n",
       "      <th>Total Revenue</th>\n",
       "    </tr>\n",
       "  </thead>\n",
       "  <tbody>\n",
       "    <tr>\n",
       "      <th>0</th>\n",
       "      <td>179</td>\n",
       "      <td>$3.05</td>\n",
       "      <td>780</td>\n",
       "      <td>$2,379.77</td>\n",
       "    </tr>\n",
       "  </tbody>\n",
       "</table>\n",
       "</div>"
      ],
      "text/plain": [
       "   # of Unique Items Avg Price  # of Purchases Total Revenue\n",
       "0                179     $3.05             780     $2,379.77"
      ]
     },
     "execution_count": 32,
     "metadata": {},
     "output_type": "execute_result"
    }
   ],
   "source": [
    "purchase_summary_df"
   ]
  },
  {
   "cell_type": "code",
   "execution_count": 33,
   "id": "a01ba4f0",
   "metadata": {},
   "outputs": [
    {
     "data": {
      "text/html": [
       "<div>\n",
       "<style scoped>\n",
       "    .dataframe tbody tr th:only-of-type {\n",
       "        vertical-align: middle;\n",
       "    }\n",
       "\n",
       "    .dataframe tbody tr th {\n",
       "        vertical-align: top;\n",
       "    }\n",
       "\n",
       "    .dataframe thead th {\n",
       "        text-align: right;\n",
       "    }\n",
       "</style>\n",
       "<table border=\"1\" class=\"dataframe\">\n",
       "  <thead>\n",
       "    <tr style=\"text-align: right;\">\n",
       "      <th></th>\n",
       "      <th>Total Player Count</th>\n",
       "      <th>Percentage</th>\n",
       "    </tr>\n",
       "    <tr>\n",
       "      <th>Gender</th>\n",
       "      <th></th>\n",
       "      <th></th>\n",
       "    </tr>\n",
       "  </thead>\n",
       "  <tbody>\n",
       "    <tr>\n",
       "      <th>Male</th>\n",
       "      <td>484</td>\n",
       "      <td>84.03%</td>\n",
       "    </tr>\n",
       "    <tr>\n",
       "      <th>Female</th>\n",
       "      <td>81</td>\n",
       "      <td>14.06%</td>\n",
       "    </tr>\n",
       "    <tr>\n",
       "      <th>Other / Non-Disclosed</th>\n",
       "      <td>11</td>\n",
       "      <td>1.91%</td>\n",
       "    </tr>\n",
       "  </tbody>\n",
       "</table>\n",
       "</div>"
      ],
      "text/plain": [
       "                       Total Player Count Percentage\n",
       "Gender                                              \n",
       "Male                                  484     84.03%\n",
       "Female                                 81     14.06%\n",
       "Other / Non-Disclosed                  11      1.91%"
      ]
     },
     "execution_count": 33,
     "metadata": {},
     "output_type": "execute_result"
    }
   ],
   "source": [
    "Gender_df"
   ]
  },
  {
   "cell_type": "code",
   "execution_count": 34,
   "id": "4094bcb2",
   "metadata": {
    "scrolled": true
   },
   "outputs": [
    {
     "data": {
      "text/html": [
       "<div>\n",
       "<style scoped>\n",
       "    .dataframe tbody tr th:only-of-type {\n",
       "        vertical-align: middle;\n",
       "    }\n",
       "\n",
       "    .dataframe tbody tr th {\n",
       "        vertical-align: top;\n",
       "    }\n",
       "\n",
       "    .dataframe thead th {\n",
       "        text-align: right;\n",
       "    }\n",
       "</style>\n",
       "<table border=\"1\" class=\"dataframe\">\n",
       "  <thead>\n",
       "    <tr style=\"text-align: right;\">\n",
       "      <th></th>\n",
       "      <th>Purchase Count</th>\n",
       "      <th>Average Purchase Price (Gender)</th>\n",
       "      <th>Total Purchase Value</th>\n",
       "      <th>Average Purchase Price (Player/Gender)</th>\n",
       "    </tr>\n",
       "    <tr>\n",
       "      <th>Gender</th>\n",
       "      <th></th>\n",
       "      <th></th>\n",
       "      <th></th>\n",
       "      <th></th>\n",
       "    </tr>\n",
       "  </thead>\n",
       "  <tbody>\n",
       "    <tr>\n",
       "      <th>Female</th>\n",
       "      <td>113</td>\n",
       "      <td>$3.20</td>\n",
       "      <td>$361.94</td>\n",
       "      <td>$4.47</td>\n",
       "    </tr>\n",
       "    <tr>\n",
       "      <th>Male</th>\n",
       "      <td>652</td>\n",
       "      <td>$3.02</td>\n",
       "      <td>$1,967.64</td>\n",
       "      <td>$4.07</td>\n",
       "    </tr>\n",
       "    <tr>\n",
       "      <th>Other / Non-Disclosed</th>\n",
       "      <td>15</td>\n",
       "      <td>$3.35</td>\n",
       "      <td>$50.19</td>\n",
       "      <td>$4.56</td>\n",
       "    </tr>\n",
       "  </tbody>\n",
       "</table>\n",
       "</div>"
      ],
      "text/plain": [
       "                       Purchase Count Average Purchase Price (Gender)  \\\n",
       "Gender                                                                  \n",
       "Female                            113                           $3.20   \n",
       "Male                              652                           $3.02   \n",
       "Other / Non-Disclosed              15                           $3.35   \n",
       "\n",
       "                      Total Purchase Value  \\\n",
       "Gender                                       \n",
       "Female                             $361.94   \n",
       "Male                             $1,967.64   \n",
       "Other / Non-Disclosed               $50.19   \n",
       "\n",
       "                      Average Purchase Price (Player/Gender)  \n",
       "Gender                                                        \n",
       "Female                                                 $4.47  \n",
       "Male                                                   $4.07  \n",
       "Other / Non-Disclosed                                  $4.56  "
      ]
     },
     "execution_count": 34,
     "metadata": {},
     "output_type": "execute_result"
    }
   ],
   "source": [
    "GenderSales_df"
   ]
  },
  {
   "cell_type": "code",
   "execution_count": 35,
   "id": "df2110e7",
   "metadata": {},
   "outputs": [
    {
     "data": {
      "text/html": [
       "<div>\n",
       "<style scoped>\n",
       "    .dataframe tbody tr th:only-of-type {\n",
       "        vertical-align: middle;\n",
       "    }\n",
       "\n",
       "    .dataframe tbody tr th {\n",
       "        vertical-align: top;\n",
       "    }\n",
       "\n",
       "    .dataframe thead th {\n",
       "        text-align: right;\n",
       "    }\n",
       "</style>\n",
       "<table border=\"1\" class=\"dataframe\">\n",
       "  <thead>\n",
       "    <tr style=\"text-align: right;\">\n",
       "      <th></th>\n",
       "      <th>Total Count</th>\n",
       "      <th>Percentage of Players</th>\n",
       "    </tr>\n",
       "    <tr>\n",
       "      <th>Age Group</th>\n",
       "      <th></th>\n",
       "      <th></th>\n",
       "    </tr>\n",
       "  </thead>\n",
       "  <tbody>\n",
       "    <tr>\n",
       "      <th>&lt;10</th>\n",
       "      <td>17</td>\n",
       "      <td>2.95%</td>\n",
       "    </tr>\n",
       "    <tr>\n",
       "      <th>10-14</th>\n",
       "      <td>22</td>\n",
       "      <td>3.82%</td>\n",
       "    </tr>\n",
       "    <tr>\n",
       "      <th>15-19</th>\n",
       "      <td>107</td>\n",
       "      <td>18.58%</td>\n",
       "    </tr>\n",
       "    <tr>\n",
       "      <th>20-24</th>\n",
       "      <td>258</td>\n",
       "      <td>44.79%</td>\n",
       "    </tr>\n",
       "    <tr>\n",
       "      <th>25-29</th>\n",
       "      <td>77</td>\n",
       "      <td>13.37%</td>\n",
       "    </tr>\n",
       "    <tr>\n",
       "      <th>30-34</th>\n",
       "      <td>52</td>\n",
       "      <td>9.03%</td>\n",
       "    </tr>\n",
       "    <tr>\n",
       "      <th>35-39</th>\n",
       "      <td>31</td>\n",
       "      <td>5.38%</td>\n",
       "    </tr>\n",
       "    <tr>\n",
       "      <th>40+</th>\n",
       "      <td>12</td>\n",
       "      <td>2.08%</td>\n",
       "    </tr>\n",
       "  </tbody>\n",
       "</table>\n",
       "</div>"
      ],
      "text/plain": [
       "           Total Count Percentage of Players\n",
       "Age Group                                   \n",
       "<10                 17                 2.95%\n",
       "10-14               22                 3.82%\n",
       "15-19              107                18.58%\n",
       "20-24              258                44.79%\n",
       "25-29               77                13.37%\n",
       "30-34               52                 9.03%\n",
       "35-39               31                 5.38%\n",
       "40+                 12                 2.08%"
      ]
     },
     "execution_count": 35,
     "metadata": {},
     "output_type": "execute_result"
    }
   ],
   "source": [
    "AgeGroups_df"
   ]
  },
  {
   "cell_type": "code",
   "execution_count": 36,
   "id": "6e35c620",
   "metadata": {},
   "outputs": [
    {
     "data": {
      "text/html": [
       "<div>\n",
       "<style scoped>\n",
       "    .dataframe tbody tr th:only-of-type {\n",
       "        vertical-align: middle;\n",
       "    }\n",
       "\n",
       "    .dataframe tbody tr th {\n",
       "        vertical-align: top;\n",
       "    }\n",
       "\n",
       "    .dataframe thead th {\n",
       "        text-align: right;\n",
       "    }\n",
       "</style>\n",
       "<table border=\"1\" class=\"dataframe\">\n",
       "  <thead>\n",
       "    <tr style=\"text-align: right;\">\n",
       "      <th></th>\n",
       "      <th>Purchase Count</th>\n",
       "      <th>Average Purchase Price (Age Group)</th>\n",
       "      <th>Total Purchase Value</th>\n",
       "      <th>Average Purchase Price (Player/Age Group)</th>\n",
       "    </tr>\n",
       "  </thead>\n",
       "  <tbody>\n",
       "    <tr>\n",
       "      <th>&lt;10</th>\n",
       "      <td>23</td>\n",
       "      <td>$3.35</td>\n",
       "      <td>$77.13</td>\n",
       "      <td>$4.54</td>\n",
       "    </tr>\n",
       "    <tr>\n",
       "      <th>10-14</th>\n",
       "      <td>28</td>\n",
       "      <td>$2.96</td>\n",
       "      <td>$82.78</td>\n",
       "      <td>$3.76</td>\n",
       "    </tr>\n",
       "    <tr>\n",
       "      <th>15-19</th>\n",
       "      <td>136</td>\n",
       "      <td>$3.04</td>\n",
       "      <td>$412.89</td>\n",
       "      <td>$3.86</td>\n",
       "    </tr>\n",
       "    <tr>\n",
       "      <th>20-24</th>\n",
       "      <td>365</td>\n",
       "      <td>$3.05</td>\n",
       "      <td>$1,114.06</td>\n",
       "      <td>$4.32</td>\n",
       "    </tr>\n",
       "    <tr>\n",
       "      <th>25-29</th>\n",
       "      <td>101</td>\n",
       "      <td>$2.90</td>\n",
       "      <td>$293.00</td>\n",
       "      <td>$3.81</td>\n",
       "    </tr>\n",
       "    <tr>\n",
       "      <th>30-34</th>\n",
       "      <td>73</td>\n",
       "      <td>$2.93</td>\n",
       "      <td>$214.00</td>\n",
       "      <td>$4.12</td>\n",
       "    </tr>\n",
       "    <tr>\n",
       "      <th>35-39</th>\n",
       "      <td>41</td>\n",
       "      <td>$3.60</td>\n",
       "      <td>$147.67</td>\n",
       "      <td>$4.76</td>\n",
       "    </tr>\n",
       "    <tr>\n",
       "      <th>40+</th>\n",
       "      <td>13</td>\n",
       "      <td>$2.94</td>\n",
       "      <td>$38.24</td>\n",
       "      <td>$3.19</td>\n",
       "    </tr>\n",
       "  </tbody>\n",
       "</table>\n",
       "</div>"
      ],
      "text/plain": [
       "       Purchase Count Average Purchase Price (Age Group) Total Purchase Value  \\\n",
       "<10                23                              $3.35               $77.13   \n",
       "10-14              28                              $2.96               $82.78   \n",
       "15-19             136                              $3.04              $412.89   \n",
       "20-24             365                              $3.05            $1,114.06   \n",
       "25-29             101                              $2.90              $293.00   \n",
       "30-34              73                              $2.93              $214.00   \n",
       "35-39              41                              $3.60              $147.67   \n",
       "40+                13                              $2.94               $38.24   \n",
       "\n",
       "      Average Purchase Price (Player/Age Group)  \n",
       "<10                                       $4.54  \n",
       "10-14                                     $3.76  \n",
       "15-19                                     $3.86  \n",
       "20-24                                     $4.32  \n",
       "25-29                                     $3.81  \n",
       "30-34                                     $4.12  \n",
       "35-39                                     $4.76  \n",
       "40+                                       $3.19  "
      ]
     },
     "execution_count": 36,
     "metadata": {},
     "output_type": "execute_result"
    }
   ],
   "source": [
    "AgeSales_df"
   ]
  },
  {
   "cell_type": "code",
   "execution_count": 37,
   "id": "df8c5e3e",
   "metadata": {},
   "outputs": [
    {
     "data": {
      "text/html": [
       "<div>\n",
       "<style scoped>\n",
       "    .dataframe tbody tr th:only-of-type {\n",
       "        vertical-align: middle;\n",
       "    }\n",
       "\n",
       "    .dataframe tbody tr th {\n",
       "        vertical-align: top;\n",
       "    }\n",
       "\n",
       "    .dataframe thead th {\n",
       "        text-align: right;\n",
       "    }\n",
       "</style>\n",
       "<table border=\"1\" class=\"dataframe\">\n",
       "  <thead>\n",
       "    <tr style=\"text-align: right;\">\n",
       "      <th></th>\n",
       "      <th>Purchase Count</th>\n",
       "      <th>Average Purchase Price</th>\n",
       "      <th>Total Purchase Value</th>\n",
       "    </tr>\n",
       "    <tr>\n",
       "      <th>Screen Name</th>\n",
       "      <th></th>\n",
       "      <th></th>\n",
       "      <th></th>\n",
       "    </tr>\n",
       "  </thead>\n",
       "  <tbody>\n",
       "    <tr>\n",
       "      <th>Lisosia93</th>\n",
       "      <td>5</td>\n",
       "      <td>$3.79</td>\n",
       "      <td>$18.96</td>\n",
       "    </tr>\n",
       "    <tr>\n",
       "      <th>Idastidru52</th>\n",
       "      <td>4</td>\n",
       "      <td>$3.86</td>\n",
       "      <td>$15.45</td>\n",
       "    </tr>\n",
       "    <tr>\n",
       "      <th>Chamjask73</th>\n",
       "      <td>3</td>\n",
       "      <td>$4.61</td>\n",
       "      <td>$13.83</td>\n",
       "    </tr>\n",
       "    <tr>\n",
       "      <th>Iral74</th>\n",
       "      <td>4</td>\n",
       "      <td>$3.40</td>\n",
       "      <td>$13.62</td>\n",
       "    </tr>\n",
       "    <tr>\n",
       "      <th>Iskadarya95</th>\n",
       "      <td>3</td>\n",
       "      <td>$4.37</td>\n",
       "      <td>$13.10</td>\n",
       "    </tr>\n",
       "  </tbody>\n",
       "</table>\n",
       "</div>"
      ],
      "text/plain": [
       "             Purchase Count Average Purchase Price Total Purchase Value\n",
       "Screen Name                                                            \n",
       "Lisosia93                 5                  $3.79               $18.96\n",
       "Idastidru52               4                  $3.86               $15.45\n",
       "Chamjask73                3                  $4.61               $13.83\n",
       "Iral74                    4                  $3.40               $13.62\n",
       "Iskadarya95               3                  $4.37               $13.10"
      ]
     },
     "execution_count": 37,
     "metadata": {},
     "output_type": "execute_result"
    }
   ],
   "source": [
    "TopPurchase_df.head()"
   ]
  },
  {
   "cell_type": "code",
   "execution_count": 38,
   "id": "fdd661e4",
   "metadata": {},
   "outputs": [
    {
     "data": {
      "text/html": [
       "<div>\n",
       "<style scoped>\n",
       "    .dataframe tbody tr th:only-of-type {\n",
       "        vertical-align: middle;\n",
       "    }\n",
       "\n",
       "    .dataframe tbody tr th {\n",
       "        vertical-align: top;\n",
       "    }\n",
       "\n",
       "    .dataframe thead th {\n",
       "        text-align: right;\n",
       "    }\n",
       "</style>\n",
       "<table border=\"1\" class=\"dataframe\">\n",
       "  <thead>\n",
       "    <tr style=\"text-align: right;\">\n",
       "      <th></th>\n",
       "      <th></th>\n",
       "      <th>Sales Count</th>\n",
       "      <th>Average Sales Price</th>\n",
       "      <th>Total Sales Value</th>\n",
       "    </tr>\n",
       "    <tr>\n",
       "      <th>Item ID</th>\n",
       "      <th>Item Name</th>\n",
       "      <th></th>\n",
       "      <th></th>\n",
       "      <th></th>\n",
       "    </tr>\n",
       "  </thead>\n",
       "  <tbody>\n",
       "    <tr>\n",
       "      <th>92</th>\n",
       "      <th>Final Critic</th>\n",
       "      <td>13</td>\n",
       "      <td>$4.61</td>\n",
       "      <td>$59.99</td>\n",
       "    </tr>\n",
       "    <tr>\n",
       "      <th>178</th>\n",
       "      <th>Oathbreaker, Last Hope of the Breaking Storm</th>\n",
       "      <td>12</td>\n",
       "      <td>$4.23</td>\n",
       "      <td>$50.76</td>\n",
       "    </tr>\n",
       "    <tr>\n",
       "      <th>145</th>\n",
       "      <th>Fiery Glass Crusader</th>\n",
       "      <td>9</td>\n",
       "      <td>$4.58</td>\n",
       "      <td>$41.22</td>\n",
       "    </tr>\n",
       "    <tr>\n",
       "      <th>132</th>\n",
       "      <th>Persuasion</th>\n",
       "      <td>9</td>\n",
       "      <td>$3.22</td>\n",
       "      <td>$28.99</td>\n",
       "    </tr>\n",
       "    <tr>\n",
       "      <th>108</th>\n",
       "      <th>Extraction, Quickblade Of Trembling Hands</th>\n",
       "      <td>9</td>\n",
       "      <td>$3.53</td>\n",
       "      <td>$31.77</td>\n",
       "    </tr>\n",
       "  </tbody>\n",
       "</table>\n",
       "</div>"
      ],
      "text/plain": [
       "                                                      Sales Count  \\\n",
       "Item ID Item Name                                                   \n",
       "92      Final Critic                                           13   \n",
       "178     Oathbreaker, Last Hope of the Breaking Storm           12   \n",
       "145     Fiery Glass Crusader                                    9   \n",
       "132     Persuasion                                              9   \n",
       "108     Extraction, Quickblade Of Trembling Hands               9   \n",
       "\n",
       "                                                     Average Sales Price  \\\n",
       "Item ID Item Name                                                          \n",
       "92      Final Critic                                               $4.61   \n",
       "178     Oathbreaker, Last Hope of the Breaking Storm               $4.23   \n",
       "145     Fiery Glass Crusader                                       $4.58   \n",
       "132     Persuasion                                                 $3.22   \n",
       "108     Extraction, Quickblade Of Trembling Hands                  $3.53   \n",
       "\n",
       "                                                     Total Sales Value  \n",
       "Item ID Item Name                                                       \n",
       "92      Final Critic                                            $59.99  \n",
       "178     Oathbreaker, Last Hope of the Breaking Storm            $50.76  \n",
       "145     Fiery Glass Crusader                                    $41.22  \n",
       "132     Persuasion                                              $28.99  \n",
       "108     Extraction, Quickblade Of Trembling Hands               $31.77  "
      ]
     },
     "execution_count": 38,
     "metadata": {},
     "output_type": "execute_result"
    }
   ],
   "source": [
    "TopSalesPop_df.head()"
   ]
  },
  {
   "cell_type": "code",
   "execution_count": 39,
   "id": "5629cbc9",
   "metadata": {},
   "outputs": [
    {
     "data": {
      "text/html": [
       "<div>\n",
       "<style scoped>\n",
       "    .dataframe tbody tr th:only-of-type {\n",
       "        vertical-align: middle;\n",
       "    }\n",
       "\n",
       "    .dataframe tbody tr th {\n",
       "        vertical-align: top;\n",
       "    }\n",
       "\n",
       "    .dataframe thead th {\n",
       "        text-align: right;\n",
       "    }\n",
       "</style>\n",
       "<table border=\"1\" class=\"dataframe\">\n",
       "  <thead>\n",
       "    <tr style=\"text-align: right;\">\n",
       "      <th></th>\n",
       "      <th></th>\n",
       "      <th>Sales Count</th>\n",
       "      <th>Average Sales Price</th>\n",
       "      <th>Total Sales Value</th>\n",
       "    </tr>\n",
       "    <tr>\n",
       "      <th>Item ID</th>\n",
       "      <th>Item Name</th>\n",
       "      <th></th>\n",
       "      <th></th>\n",
       "      <th></th>\n",
       "    </tr>\n",
       "  </thead>\n",
       "  <tbody>\n",
       "    <tr>\n",
       "      <th>92</th>\n",
       "      <th>Final Critic</th>\n",
       "      <td>13</td>\n",
       "      <td>$4.61</td>\n",
       "      <td>$59.99</td>\n",
       "    </tr>\n",
       "    <tr>\n",
       "      <th>178</th>\n",
       "      <th>Oathbreaker, Last Hope of the Breaking Storm</th>\n",
       "      <td>12</td>\n",
       "      <td>$4.23</td>\n",
       "      <td>$50.76</td>\n",
       "    </tr>\n",
       "    <tr>\n",
       "      <th>82</th>\n",
       "      <th>Nirvana</th>\n",
       "      <td>9</td>\n",
       "      <td>$4.90</td>\n",
       "      <td>$44.10</td>\n",
       "    </tr>\n",
       "    <tr>\n",
       "      <th>145</th>\n",
       "      <th>Fiery Glass Crusader</th>\n",
       "      <td>9</td>\n",
       "      <td>$4.58</td>\n",
       "      <td>$41.22</td>\n",
       "    </tr>\n",
       "    <tr>\n",
       "      <th>103</th>\n",
       "      <th>Singed Scalpel</th>\n",
       "      <td>8</td>\n",
       "      <td>$4.35</td>\n",
       "      <td>$34.80</td>\n",
       "    </tr>\n",
       "  </tbody>\n",
       "</table>\n",
       "</div>"
      ],
      "text/plain": [
       "                                                      Sales Count  \\\n",
       "Item ID Item Name                                                   \n",
       "92      Final Critic                                           13   \n",
       "178     Oathbreaker, Last Hope of the Breaking Storm           12   \n",
       "82      Nirvana                                                 9   \n",
       "145     Fiery Glass Crusader                                    9   \n",
       "103     Singed Scalpel                                          8   \n",
       "\n",
       "                                                     Average Sales Price  \\\n",
       "Item ID Item Name                                                          \n",
       "92      Final Critic                                               $4.61   \n",
       "178     Oathbreaker, Last Hope of the Breaking Storm               $4.23   \n",
       "82      Nirvana                                                    $4.90   \n",
       "145     Fiery Glass Crusader                                       $4.58   \n",
       "103     Singed Scalpel                                             $4.35   \n",
       "\n",
       "                                                     Total Sales Value  \n",
       "Item ID Item Name                                                       \n",
       "92      Final Critic                                            $59.99  \n",
       "178     Oathbreaker, Last Hope of the Breaking Storm            $50.76  \n",
       "82      Nirvana                                                 $44.10  \n",
       "145     Fiery Glass Crusader                                    $41.22  \n",
       "103     Singed Scalpel                                          $34.80  "
      ]
     },
     "execution_count": 39,
     "metadata": {},
     "output_type": "execute_result"
    }
   ],
   "source": [
    "TopSalesProf_df.head()"
   ]
  },
  {
   "cell_type": "code",
   "execution_count": null,
   "id": "05a936b2",
   "metadata": {},
   "outputs": [],
   "source": []
  }
 ],
 "metadata": {
  "kernelspec": {
   "display_name": "Python 3 (ipykernel)",
   "language": "python",
   "name": "python3"
  },
  "language_info": {
   "codemirror_mode": {
    "name": "ipython",
    "version": 3
   },
   "file_extension": ".py",
   "mimetype": "text/x-python",
   "name": "python",
   "nbconvert_exporter": "python",
   "pygments_lexer": "ipython3",
   "version": "3.8.5"
  }
 },
 "nbformat": 4,
 "nbformat_minor": 5
}
